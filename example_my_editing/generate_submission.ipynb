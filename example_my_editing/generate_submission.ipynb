{
 "cells": [
  {
   "cell_type": "code",
   "execution_count": 3,
   "id": "4cb99ff1",
   "metadata": {},
   "outputs": [
    {
     "name": "stderr",
     "output_type": "stream",
     "text": [
      "C:\\Users\\dmih0\\anaconda\\lib\\site-packages\\numpy\\core\\_asarray.py:102: VisibleDeprecationWarning: Creating an ndarray from ragged nested sequences (which is a list-or-tuple of lists-or-tuples-or ndarrays with different lengths or shapes) is deprecated. If you meant to do this, you must specify 'dtype=object' when creating the ndarray.\n",
      "  return array(a, dtype, copy=False, order=order)\n"
     ]
    }
   ],
   "source": [
    "import yaml\n",
    "import pandas as pd\n",
    "\n",
    "from pathlib import Path\n",
    "from baseline import prepare_model\n",
    "from baseline import read_pymatgen_dict\n",
    "\n",
    "\n",
    "\n",
    "def main(config):\n",
    "    model = prepare_model(\n",
    "        float(config[\"model\"][\"cutoff\"]), float(config[\"model\"][\"lr\"])\n",
    "    )\n",
    "    model.load_weights(config['checkpoint_path'])\n",
    "\n",
    "    dataset_path = Path(config['test_datapath'])\n",
    "    struct = {item.name.strip('.json'): read_pymatgen_dict(item) for item in (dataset_path/'structures').iterdir()}\n",
    "    private_test = pd.DataFrame(columns=['id', 'structures'], index=struct.keys())\n",
    "    private_test = private_test.assign(structures=struct.values())\n",
    "    private_test = private_test.assign(predictions=model.predict_structures(private_test.structures))\n",
    "    private_test[['predictions']].to_csv('./submission.csv', index_label='id')\n",
    "\n",
    "if __name__ == '__main__':\n",
    "    with open(\"config.yaml\") as file:\n",
    "        config = yaml.safe_load(file)\n",
    "    main(config)"
   ]
  },
  {
   "cell_type": "code",
   "execution_count": null,
   "id": "ddabde42",
   "metadata": {},
   "outputs": [],
   "source": []
  }
 ],
 "metadata": {
  "kernelspec": {
   "display_name": "Python 3",
   "language": "python",
   "name": "python3"
  },
  "language_info": {
   "codemirror_mode": {
    "name": "ipython",
    "version": 3
   },
   "file_extension": ".py",
   "mimetype": "text/x-python",
   "name": "python",
   "nbconvert_exporter": "python",
   "pygments_lexer": "ipython3",
   "version": "3.8.8"
  }
 },
 "nbformat": 4,
 "nbformat_minor": 5
}
