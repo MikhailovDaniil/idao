{
 "cells": [
  {
   "cell_type": "code",
   "execution_count": 6,
   "id": "18a751e4",
   "metadata": {},
   "outputs": [],
   "source": [
    "import json\n",
    "import pymatgen\n",
    "\n",
    "import tensorflow as tf\n",
    "\n",
    "from pymatgen.core import Structure\n",
    "from megnet.models import MEGNetModel\n",
    "from megnet.data.crystal import CrystalGraph\n",
    "import pandas as pd\n",
    "from pathlib import Path"
   ]
  },
  {
   "cell_type": "code",
   "execution_count": 2,
   "id": "3ee1c129",
   "metadata": {},
   "outputs": [],
   "source": [
    "def read_pymatgen_dict(file):\n",
    "    with open(file, \"r\") as f:\n",
    "        d = json.load(f)\n",
    "    return Structure.from_dict(d)"
   ]
  },
  {
   "cell_type": "code",
   "execution_count": 18,
   "id": "fcbbca63",
   "metadata": {},
   "outputs": [
    {
     "data": {
      "text/plain": [
       "list"
      ]
     },
     "execution_count": 18,
     "metadata": {},
     "output_type": "execute_result"
    }
   ],
   "source": [
    "df = pd.DataFrame()\n",
    "final_data = []"
   ]
  },
  {
   "cell_type": "code",
   "execution_count": 16,
   "id": "c51bc001",
   "metadata": {},
   "outputs": [],
   "source": [
    "dataset_path = Path(\"./data/dichalcogenides_public\")\n",
    "struct = {item.name.strip('.json'): read_pymatgen_dict(item) for item in (dataset_path/'structures').iterdir()}"
   ]
  },
  {
   "cell_type": "code",
   "execution_count": 21,
   "id": "e80e1193",
   "metadata": {},
   "outputs": [],
   "source": [
    "final_data = []\n",
    "for key in struct:\n",
    "    name = key\n",
    "    d1 = struct[key]\n",
    "    df1 = Structure.as_dataframe(d1)\n",
    "    data =[]\n",
    "    data.append(name)\n",
    "    for i in d1.lattice.abc:\n",
    "        data.append(i)\n",
    "    for i in d1.lattice.angles:\n",
    "        data.append(i)\n",
    "    data.append(d1.lattice.volume)\n",
    "    for i in d1.lattice.angles:\n",
    "        data.append(i)\n",
    "    for i in range(len(df1)):\n",
    "        for j in df1.columns:\n",
    "            data.append(df1[j][i])\n",
    "            \n",
    "    final_data.append(data)\n"
   ]
  },
  {
   "cell_type": "code",
   "execution_count": 23,
   "id": "96a83036",
   "metadata": {},
   "outputs": [],
   "source": [
    "df = pd.DataFrame(final_data)\n",
    "df.to_csv(\"./training.csv\", sep = \";\", encoding = 'utf8')"
   ]
  },
  {
   "cell_type": "code",
   "execution_count": 27,
   "id": "e6494022",
   "metadata": {},
   "outputs": [
    {
     "data": {
      "text/plain": [
       "<bound method NDFrame.describe of                           0          1          2          3     4     5     \\\n",
       "0     6141cf0f51c1cbd9654b8870  25.522526  25.522526  14.879004  90.0  90.0   \n",
       "1     6141cf1051c1cbd9654b8872  25.522526  25.522526  14.879004  90.0  90.0   \n",
       "2     6141cf11ae4fb853db2e3f14  25.522526  25.522526  14.879004  90.0  90.0   \n",
       "3     6141cf11b842c2e72e2f2d48  25.522526  25.522526  14.879004  90.0  90.0   \n",
       "4     6141cf11cc0e69a0cf28ab35  25.522526  25.522526  14.879004  90.0  90.0   \n",
       "...                        ...        ...        ...        ...   ...   ...   \n",
       "2961  6146d0b54e27a1844a5f0b02  25.522526  25.522526  14.879004  90.0  90.0   \n",
       "2962  6146dd853ac25c70a5c6cdeb  25.522526  25.522526  14.879004  90.0  90.0   \n",
       "2963  6146e9103ac25c70a5c6cded  25.522526  25.522526  14.879004  90.0  90.0   \n",
       "2964  6146ecdb3ac25c70a5c6cdef  25.522526  25.522526  14.879004  90.0  90.0   \n",
       "2965  6147d3de31cf3ef3d4a9f846  25.522526  25.522526  14.879004  90.0  90.0   \n",
       "\n",
       "       6            7     8     9     ...       1345       1346      1347  \\\n",
       "0     120.0  8393.668022  90.0  90.0  ...        NaN        NaN       NaN   \n",
       "1     120.0  8393.668022  90.0  90.0  ...        NaN        NaN       NaN   \n",
       "2     120.0  8393.668022  90.0  90.0  ...  12.761263  20.261226  5.284635   \n",
       "3     120.0  8393.668022  90.0  90.0  ...  14.356421  17.498332  5.284635   \n",
       "4     120.0  8393.668022  90.0  90.0  ...  12.761263  20.261226  5.284635   \n",
       "...     ...          ...   ...   ...  ...        ...        ...       ...   \n",
       "2961  120.0  8393.668022  90.0  90.0  ...  12.761263  20.261226  5.284635   \n",
       "2962  120.0  8393.668022  90.0  90.0  ...        NaN        NaN       NaN   \n",
       "2963  120.0  8393.668022  90.0  90.0  ...        NaN        NaN       NaN   \n",
       "2964  120.0  8393.668022  90.0  90.0  ...        NaN        NaN       NaN   \n",
       "2965  120.0  8393.668022  90.0  90.0  ...        NaN        NaN       NaN   \n",
       "\n",
       "      1348      1349      1350      1351       1352       1353      1354  \n",
       "0     None       NaN       NaN       NaN        NaN        NaN       NaN  \n",
       "1     None       NaN       NaN       NaN        NaN        NaN       NaN  \n",
       "2     None       NaN       NaN       NaN        NaN        NaN       NaN  \n",
       "3      (S)  0.958333  0.916667  0.355174  12.761263  20.261226  5.284635  \n",
       "4     None       NaN       NaN       NaN        NaN        NaN       NaN  \n",
       "...    ...       ...       ...       ...        ...        ...       ...  \n",
       "2961  None       NaN       NaN       NaN        NaN        NaN       NaN  \n",
       "2962  None       NaN       NaN       NaN        NaN        NaN       NaN  \n",
       "2963  None       NaN       NaN       NaN        NaN        NaN       NaN  \n",
       "2964  None       NaN       NaN       NaN        NaN        NaN       NaN  \n",
       "2965  None       NaN       NaN       NaN        NaN        NaN       NaN  \n",
       "\n",
       "[2966 rows x 1355 columns]>"
      ]
     },
     "execution_count": 27,
     "metadata": {},
     "output_type": "execute_result"
    }
   ],
   "source": [
    "df.describe"
   ]
  },
  {
   "cell_type": "code",
   "execution_count": 34,
   "id": "9f3fc092",
   "metadata": {},
   "outputs": [
    {
     "data": {
      "text/plain": [
       "0       (Mo)\n",
       "1       (Mo)\n",
       "2       (Mo)\n",
       "3       (Mo)\n",
       "4       (Mo)\n",
       "        ... \n",
       "2961    (Mo)\n",
       "2962    (Mo)\n",
       "2963    (Mo)\n",
       "2964    (Mo)\n",
       "2965    (Mo)\n",
       "Name: 18, Length: 2966, dtype: object"
      ]
     },
     "execution_count": 34,
     "metadata": {},
     "output_type": "execute_result"
    }
   ],
   "source": [
    "df[18]"
   ]
  },
  {
   "cell_type": "code",
   "execution_count": 35,
   "id": "e6e5eff5",
   "metadata": {},
   "outputs": [],
   "source": [
    "categorical_columns = [c for c in df.columns if df[c].dtype.name == 'object']"
   ]
  },
  {
   "cell_type": "code",
   "execution_count": 38,
   "id": "ec377313",
   "metadata": {},
   "outputs": [
    {
     "name": "stdout",
     "output_type": "stream",
     "text": [
      "[0, 11, 18, 25, 32, 39, 46, 53, 60, 67, 74, 81, 88, 95, 102, 109, 116, 123, 130, 137, 144, 151, 158, 165, 172, 179, 186, 193, 200, 207, 214, 221, 228, 235, 242, 249, 256, 263, 270, 277, 284, 291, 298, 305, 312, 319, 326, 333, 340, 347, 354, 361, 368, 375, 382, 389, 396, 403, 410, 417, 424, 431, 438, 445, 452, 459, 466, 473, 480, 487, 494, 501, 508, 515, 522, 529, 536, 543, 550, 557, 564, 571, 578, 585, 592, 599, 606, 613, 620, 627, 634, 641, 648, 655, 662, 669, 676, 683, 690, 697, 704, 711, 718, 725, 732, 739, 746, 753, 760, 767, 774, 781, 788, 795, 802, 809, 816, 823, 830, 837, 844, 851, 858, 865, 872, 879, 886, 893, 900, 907, 914, 921, 928, 935, 942, 949, 956, 963, 970, 977, 984, 991, 998, 1005, 1012, 1019, 1026, 1033, 1040, 1047, 1054, 1061, 1068, 1075, 1082, 1089, 1096, 1103, 1110, 1117, 1124, 1131, 1138, 1145, 1152, 1159, 1166, 1173, 1180, 1187, 1194, 1201, 1208, 1215, 1222, 1229, 1236, 1243, 1250, 1257, 1264, 1271, 1278, 1285, 1292, 1299, 1306, 1313, 1320, 1327, 1334, 1341, 1348]\n"
     ]
    }
   ],
   "source": [
    "print(categorical_columns)"
   ]
  },
  {
   "cell_type": "code",
   "execution_count": 40,
   "id": "9ff2b74c",
   "metadata": {},
   "outputs": [
    {
     "name": "stdout",
     "output_type": "stream",
     "text": [
      "['6141cf0f51c1cbd9654b8870' '6141cf1051c1cbd9654b8872'\n",
      " '6141cf11ae4fb853db2e3f14' ... '6146e9103ac25c70a5c6cded'\n",
      " '6146ecdb3ac25c70a5c6cdef' '6147d3de31cf3ef3d4a9f846']\n",
      "[Comp: Mo1]\n",
      "[Comp: Mo1]\n",
      "[Comp: Mo1]\n",
      "[Comp: Mo1]\n",
      "[Comp: Mo1]\n",
      "[Comp: Mo1]\n",
      "[Comp: Mo1]\n",
      "[Comp: Mo1]\n",
      "[Comp: Mo1]\n",
      "[Comp: Mo1]\n",
      "[Comp: Mo1]\n",
      "[Comp: Mo1]\n",
      "[Comp: Mo1]\n",
      "[Comp: Mo1]\n",
      "[Comp: Mo1]\n",
      "[Comp: Mo1]\n",
      "[Comp: Mo1]\n",
      "[Comp: Mo1]\n",
      "[Comp: Mo1]\n",
      "[Comp: Mo1]\n",
      "[Comp: Mo1]\n",
      "[Comp: Mo1]\n",
      "[Comp: Mo1]\n",
      "[Comp: Mo1]\n",
      "[Comp: Mo1]\n",
      "[Comp: Mo1]\n",
      "[Comp: Mo1]\n",
      "[Comp: Mo1]\n",
      "[Comp: Mo1]\n",
      "[Comp: Mo1]\n",
      "[Comp: Mo1]\n",
      "[Comp: Mo1]\n",
      "[Comp: Mo1]\n",
      "[Comp: Mo1]\n",
      "[Comp: Mo1]\n",
      "[Comp: Mo1]\n",
      "[Comp: Mo1]\n",
      "[Comp: Mo1]\n",
      "[Comp: Mo1]\n",
      "[Comp: Mo1]\n",
      "[Comp: Mo1]\n",
      "[Comp: Mo1]\n",
      "[Comp: Mo1]\n",
      "[Comp: Mo1]\n",
      "[Comp: Mo1]\n",
      "[Comp: Mo1]\n",
      "[Comp: Mo1]\n",
      "[Comp: Mo1]\n",
      "[Comp: Mo1]\n",
      "[Comp: Mo1]\n",
      "[Comp: Mo1]\n",
      "[Comp: Mo1]\n",
      "[Comp: Mo1]\n",
      "[Comp: Mo1]\n",
      "[Comp: Mo1]\n",
      "[Comp: Mo1]\n",
      "[Comp: Mo1]\n",
      "[Comp: Mo1]\n",
      "[Comp: Mo1]\n",
      "[Comp: Mo1]\n",
      "[Comp: Mo1]\n",
      "[Comp: Mo1]\n",
      "[Comp: Mo1]\n",
      "[Comp: Mo1 Comp: S1 Comp: Se1 Comp: W1]\n",
      "[Comp: S1 Comp: Se1]\n",
      "[Comp: S1 Comp: Se1]\n",
      "[Comp: S1]\n",
      "[Comp: S1]\n",
      "[Comp: S1]\n",
      "[Comp: S1]\n",
      "[Comp: S1]\n",
      "[Comp: S1]\n",
      "[Comp: S1]\n",
      "[Comp: S1]\n",
      "[Comp: S1]\n",
      "[Comp: S1]\n",
      "[Comp: S1]\n",
      "[Comp: S1]\n",
      "[Comp: S1]\n",
      "[Comp: S1]\n",
      "[Comp: S1]\n",
      "[Comp: S1]\n",
      "[Comp: S1]\n",
      "[Comp: S1]\n",
      "[Comp: S1]\n",
      "[Comp: S1]\n",
      "[Comp: S1]\n",
      "[Comp: S1]\n",
      "[Comp: S1]\n",
      "[Comp: S1]\n",
      "[Comp: S1]\n",
      "[Comp: S1]\n",
      "[Comp: S1]\n",
      "[Comp: S1]\n",
      "[Comp: S1]\n",
      "[Comp: S1]\n",
      "[Comp: S1]\n",
      "[Comp: S1]\n",
      "[Comp: S1]\n",
      "[Comp: S1]\n",
      "[Comp: S1]\n",
      "[Comp: S1]\n",
      "[Comp: S1]\n",
      "[Comp: S1]\n",
      "[Comp: S1]\n",
      "[Comp: S1]\n",
      "[Comp: S1]\n",
      "[Comp: S1]\n",
      "[Comp: S1]\n",
      "[Comp: S1]\n",
      "[Comp: S1]\n",
      "[Comp: S1]\n",
      "[Comp: S1]\n",
      "[Comp: S1]\n",
      "[Comp: S1]\n",
      "[Comp: S1]\n",
      "[Comp: S1]\n",
      "[Comp: S1]\n",
      "[Comp: S1]\n",
      "[Comp: S1]\n",
      "[Comp: S1]\n",
      "[Comp: S1]\n",
      "[Comp: S1]\n",
      "[Comp: S1]\n",
      "[Comp: S1]\n",
      "[Comp: S1]\n",
      "[Comp: S1]\n",
      "[Comp: S1]\n",
      "[Comp: S1]\n",
      "[Comp: S1]\n",
      "[Comp: S1]\n",
      "[Comp: S1]\n",
      "[Comp: S1]\n",
      "[Comp: S1]\n",
      "[Comp: S1]\n",
      "[Comp: S1]\n",
      "[Comp: S1]\n",
      "[Comp: S1]\n",
      "[Comp: S1]\n",
      "[Comp: S1]\n",
      "[Comp: S1]\n",
      "[Comp: S1]\n",
      "[Comp: S1]\n",
      "[Comp: S1]\n",
      "[Comp: S1]\n",
      "[Comp: S1]\n",
      "[Comp: S1]\n",
      "[Comp: S1]\n",
      "[Comp: S1]\n",
      "[Comp: S1]\n",
      "[Comp: S1]\n",
      "[Comp: S1]\n",
      "[Comp: S1]\n",
      "[Comp: S1]\n",
      "[Comp: S1]\n",
      "[Comp: S1]\n",
      "[Comp: S1]\n",
      "[Comp: S1]\n",
      "[Comp: S1]\n",
      "[Comp: S1]\n",
      "[Comp: S1]\n",
      "[Comp: S1]\n",
      "[Comp: S1]\n",
      "[Comp: S1]\n",
      "[Comp: S1]\n",
      "[Comp: S1]\n",
      "[Comp: S1]\n",
      "[Comp: S1]\n",
      "[Comp: S1]\n",
      "[Comp: S1]\n",
      "[Comp: S1]\n",
      "[Comp: S1]\n",
      "[Comp: S1]\n",
      "[Comp: S1]\n",
      "[Comp: S1]\n",
      "[Comp: S1]\n",
      "[Comp: S1]\n",
      "[Comp: S1]\n",
      "[Comp: S1]\n",
      "[Comp: S1]\n",
      "[Comp: S1]\n",
      "[Comp: S1]\n",
      "[Comp: S1]\n",
      "[Comp: S1]\n",
      "[Comp: S1]\n",
      "[Comp: S1]\n",
      "[Comp: S1]\n",
      "[Comp: S1]\n",
      "[Comp: S1]\n",
      "[Comp: S1 None]\n",
      "[None Comp: S1]\n",
      "[None Comp: S1]\n"
     ]
    }
   ],
   "source": [
    "for c in categorical_columns:\n",
    "    print(df[c].unique())"
   ]
  },
  {
   "cell_type": "code",
   "execution_count": null,
   "id": "dc603707",
   "metadata": {},
   "outputs": [],
   "source": []
  }
 ],
 "metadata": {
  "kernelspec": {
   "display_name": "Python 3",
   "language": "python",
   "name": "python3"
  },
  "language_info": {
   "codemirror_mode": {
    "name": "ipython",
    "version": 3
   },
   "file_extension": ".py",
   "mimetype": "text/x-python",
   "name": "python",
   "nbconvert_exporter": "python",
   "pygments_lexer": "ipython3",
   "version": "3.8.8"
  }
 },
 "nbformat": 4,
 "nbformat_minor": 5
}
