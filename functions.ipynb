{
 "cells": [
  {
   "cell_type": "code",
   "execution_count": 2,
   "id": "868b4797",
   "metadata": {},
   "outputs": [],
   "source": [
    "import json\n",
    "import pymatgen\n",
    "\n",
    "import tensorflow as tf\n",
    "\n",
    "from pymatgen.core import Structure\n",
    "import pandas as pd\n",
    "from pathlib import Path"
   ]
  },
  {
   "cell_type": "code",
   "execution_count": 3,
   "id": "6a794dd0",
   "metadata": {},
   "outputs": [],
   "source": [
    "def read_pymatgen_dict(file):\n",
    "    with open(file, \"r\") as f:\n",
    "        d = json.load(f)\n",
    "    return Structure.from_dict(d)"
   ]
  },
  {
   "cell_type": "code",
   "execution_count": 6,
   "id": "3c07dad4",
   "metadata": {},
   "outputs": [],
   "source": [
    "dataset_path1 = Path(\"./data/dichalcogenides_public\")"
   ]
  },
  {
   "cell_type": "code",
   "execution_count": 5,
   "id": "2730e783",
   "metadata": {},
   "outputs": [],
   "source": [
    "def to_dataframe(dataset_path):\n",
    "    struct = {item.name.strip('.json'): read_pymatgen_dict(item) for item in (dataset_path/'structures').iterdir()}\n",
    "    final_data = []\n",
    "    for key in struct:\n",
    "        name = key\n",
    "        d1 = struct[key]\n",
    "        df1 = Structure.as_dataframe(d1)\n",
    "        data =[]\n",
    "        data.append(name)\n",
    "        for i in d1.lattice.abc:\n",
    "            data.append(i)\n",
    "        for i in d1.lattice.angles:\n",
    "            data.append(i)\n",
    "        data.append(d1.lattice.volume)\n",
    "        for i in d1.lattice.angles:\n",
    "            data.append(i)\n",
    "        for i in range(len(df1)):\n",
    "            for j in df1.columns:\n",
    "                data.append(df1[j][i])\n",
    "\n",
    "        final_data.append(data)\n",
    "    return final_data"
   ]
  },
  {
   "cell_type": "code",
   "execution_count": 7,
   "id": "9a8074ed",
   "metadata": {},
   "outputs": [],
   "source": [
    "def prepare_dataset(df):\n",
    "    categorical_columns = [c for c in df.columns[1:] if df[c].dtype.name == 'object']\n",
    "    numerical_columns   = [c for c in df.columns if df[c].dtype.name != 'object']\n",
    "    \n",
    "    for c in numerical_columns:\n",
    "        df[c] = df[c].fillna(-999999)\n",
    "    df = df.fillna(\"no\")\n",
    "    \n",
    "    df_cat = df[categorical_columns].astype(\"str\")\n",
    "    df_num = df[numerical_columns]\n",
    "    df_code = df[0]\n",
    "    df_cat = pd.get_dummies(df_cat)\n",
    "    \n",
    "    df_final = pd.concat((df_code, df_cat, df_num), axis = 1)\n",
    "    df_final = pd.DataFrame(df_final)\n",
    "    return df_final"
   ]
  },
  {
   "cell_type": "code",
   "execution_count": null,
   "id": "dff337ce",
   "metadata": {},
   "outputs": [],
   "source": []
  }
 ],
 "metadata": {
  "kernelspec": {
   "display_name": "Python 3",
   "language": "python",
   "name": "python3"
  },
  "language_info": {
   "codemirror_mode": {
    "name": "ipython",
    "version": 3
   },
   "file_extension": ".py",
   "mimetype": "text/x-python",
   "name": "python",
   "nbconvert_exporter": "python",
   "pygments_lexer": "ipython3",
   "version": "3.8.8"
  }
 },
 "nbformat": 4,
 "nbformat_minor": 5
}
